{
  "nbformat": 4,
  "nbformat_minor": 0,
  "metadata": {
    "colab": {
      "name": "autogluon-text.ipynb",
      "provenance": [],
      "collapsed_sections": [],
      "authorship_tag": "ABX9TyOhrAD9OGcwVou/p/rEmnA7",
      "include_colab_link": true
    },
    "kernelspec": {
      "name": "python3",
      "display_name": "Python 3"
    },
    "language_info": {
      "name": "python"
    },
    "accelerator": "GPU"
  },
  "cells": [
    {
      "cell_type": "markdown",
      "metadata": {
        "id": "view-in-github",
        "colab_type": "text"
      },
      "source": [
        "<a href=\"https://colab.research.google.com/github/tmtong/ai-library-exploration/blob/main/autogluon_text.ipynb\" target=\"_parent\"><img src=\"https://colab.research.google.com/assets/colab-badge.svg\" alt=\"Open In Colab\"/></a>"
      ]
    },
    {
      "cell_type": "code",
      "metadata": {
        "colab": {
          "base_uri": "https://localhost:8080/",
          "height": 1000
        },
        "id": "kiZHRFFhGMtE",
        "outputId": "9fddc346-27ab-48d8-8c61-8f23b152a2f9"
      },
      "source": [
        "!pip install -U pip\n",
        "!pip install -U setuptools wheel\n",
        "!pip install -U \"mxnet<2.0.0\"\n",
        "!pip install autogluon\n",
        "!pip install -q kaggle\n",
        "from google.colab import files"
      ],
      "execution_count": null,
      "outputs": [
        {
          "output_type": "stream",
          "text": [
            "Collecting pip\n",
            "\u001b[?25l  Downloading https://files.pythonhosted.org/packages/47/ca/f0d790b6e18b3a6f3bd5e80c2ee4edbb5807286c21cdd0862ca933f751dd/pip-21.1.3-py3-none-any.whl (1.5MB)\n",
            "\r\u001b[K     |▏                               | 10kB 20.4MB/s eta 0:00:01\r\u001b[K     |▍                               | 20kB 26.3MB/s eta 0:00:01\r\u001b[K     |▋                               | 30kB 31.3MB/s eta 0:00:01\r\u001b[K     |▉                               | 40kB 32.8MB/s eta 0:00:01\r\u001b[K     |█                               | 51kB 34.0MB/s eta 0:00:01\r\u001b[K     |█▎                              | 61kB 32.6MB/s eta 0:00:01\r\u001b[K     |█▌                              | 71kB 32.6MB/s eta 0:00:01\r\u001b[K     |█▊                              | 81kB 31.7MB/s eta 0:00:01\r\u001b[K     |██                              | 92kB 32.1MB/s eta 0:00:01\r\u001b[K     |██▏                             | 102kB 32.6MB/s eta 0:00:01\r\u001b[K     |██▎                             | 112kB 32.6MB/s eta 0:00:01\r\u001b[K     |██▌                             | 122kB 32.6MB/s eta 0:00:01\r\u001b[K     |██▊                             | 133kB 32.6MB/s eta 0:00:01\r\u001b[K     |███                             | 143kB 32.6MB/s eta 0:00:01\r\u001b[K     |███▏                            | 153kB 32.6MB/s eta 0:00:01\r\u001b[K     |███▍                            | 163kB 32.6MB/s eta 0:00:01\r\u001b[K     |███▋                            | 174kB 32.6MB/s eta 0:00:01\r\u001b[K     |███▉                            | 184kB 32.6MB/s eta 0:00:01\r\u001b[K     |████                            | 194kB 32.6MB/s eta 0:00:01\r\u001b[K     |████▎                           | 204kB 32.6MB/s eta 0:00:01\r\u001b[K     |████▌                           | 215kB 32.6MB/s eta 0:00:01\r\u001b[K     |████▋                           | 225kB 32.6MB/s eta 0:00:01\r\u001b[K     |████▉                           | 235kB 32.6MB/s eta 0:00:01\r\u001b[K     |█████                           | 245kB 32.6MB/s eta 0:00:01\r\u001b[K     |█████▎                          | 256kB 32.6MB/s eta 0:00:01\r\u001b[K     |█████▌                          | 266kB 32.6MB/s eta 0:00:01\r\u001b[K     |█████▊                          | 276kB 32.6MB/s eta 0:00:01\r\u001b[K     |██████                          | 286kB 32.6MB/s eta 0:00:01\r\u001b[K     |██████▏                         | 296kB 32.6MB/s eta 0:00:01\r\u001b[K     |██████▍                         | 307kB 32.6MB/s eta 0:00:01\r\u001b[K     |██████▋                         | 317kB 32.6MB/s eta 0:00:01\r\u001b[K     |██████▊                         | 327kB 32.6MB/s eta 0:00:01\r\u001b[K     |███████                         | 337kB 32.6MB/s eta 0:00:01\r\u001b[K     |███████▏                        | 348kB 32.6MB/s eta 0:00:01\r\u001b[K     |███████▍                        | 358kB 32.6MB/s eta 0:00:01\r\u001b[K     |███████▋                        | 368kB 32.6MB/s eta 0:00:01\r\u001b[K     |███████▉                        | 378kB 32.6MB/s eta 0:00:01\r\u001b[K     |████████                        | 389kB 32.6MB/s eta 0:00:01\r\u001b[K     |████████▎                       | 399kB 32.6MB/s eta 0:00:01\r\u001b[K     |████████▌                       | 409kB 32.6MB/s eta 0:00:01\r\u001b[K     |████████▊                       | 419kB 32.6MB/s eta 0:00:01\r\u001b[K     |█████████                       | 430kB 32.6MB/s eta 0:00:01\r\u001b[K     |█████████                       | 440kB 32.6MB/s eta 0:00:01\r\u001b[K     |█████████▎                      | 450kB 32.6MB/s eta 0:00:01\r\u001b[K     |█████████▌                      | 460kB 32.6MB/s eta 0:00:01\r\u001b[K     |█████████▊                      | 471kB 32.6MB/s eta 0:00:01\r\u001b[K     |██████████                      | 481kB 32.6MB/s eta 0:00:01\r\u001b[K     |██████████▏                     | 491kB 32.6MB/s eta 0:00:01\r\u001b[K     |██████████▍                     | 501kB 32.6MB/s eta 0:00:01\r\u001b[K     |██████████▋                     | 512kB 32.6MB/s eta 0:00:01\r\u001b[K     |██████████▉                     | 522kB 32.6MB/s eta 0:00:01\r\u001b[K     |███████████                     | 532kB 32.6MB/s eta 0:00:01\r\u001b[K     |███████████▏                    | 542kB 32.6MB/s eta 0:00:01\r\u001b[K     |███████████▍                    | 552kB 32.6MB/s eta 0:00:01\r\u001b[K     |███████████▋                    | 563kB 32.6MB/s eta 0:00:01\r\u001b[K     |███████████▉                    | 573kB 32.6MB/s eta 0:00:01\r\u001b[K     |████████████                    | 583kB 32.6MB/s eta 0:00:01\r\u001b[K     |████████████▎                   | 593kB 32.6MB/s eta 0:00:01\r\u001b[K     |████████████▌                   | 604kB 32.6MB/s eta 0:00:01\r\u001b[K     |████████████▊                   | 614kB 32.6MB/s eta 0:00:01\r\u001b[K     |█████████████                   | 624kB 32.6MB/s eta 0:00:01\r\u001b[K     |█████████████▏                  | 634kB 32.6MB/s eta 0:00:01\r\u001b[K     |█████████████▍                  | 645kB 32.6MB/s eta 0:00:01\r\u001b[K     |█████████████▌                  | 655kB 32.6MB/s eta 0:00:01\r\u001b[K     |█████████████▊                  | 665kB 32.6MB/s eta 0:00:01\r\u001b[K     |██████████████                  | 675kB 32.6MB/s eta 0:00:01\r\u001b[K     |██████████████▏                 | 686kB 32.6MB/s eta 0:00:01\r\u001b[K     |██████████████▍                 | 696kB 32.6MB/s eta 0:00:01\r\u001b[K     |██████████████▋                 | 706kB 32.6MB/s eta 0:00:01\r\u001b[K     |██████████████▉                 | 716kB 32.6MB/s eta 0:00:01\r\u001b[K     |███████████████                 | 727kB 32.6MB/s eta 0:00:01\r\u001b[K     |███████████████▎                | 737kB 32.6MB/s eta 0:00:01\r\u001b[K     |███████████████▌                | 747kB 32.6MB/s eta 0:00:01\r\u001b[K     |███████████████▋                | 757kB 32.6MB/s eta 0:00:01\r\u001b[K     |███████████████▉                | 768kB 32.6MB/s eta 0:00:01\r\u001b[K     |████████████████                | 778kB 32.6MB/s eta 0:00:01\r\u001b[K     |████████████████▎               | 788kB 32.6MB/s eta 0:00:01\r\u001b[K     |████████████████▌               | 798kB 32.6MB/s eta 0:00:01\r\u001b[K     |████████████████▊               | 808kB 32.6MB/s eta 0:00:01\r\u001b[K     |█████████████████               | 819kB 32.6MB/s eta 0:00:01\r\u001b[K     |█████████████████▏              | 829kB 32.6MB/s eta 0:00:01\r\u001b[K     |█████████████████▍              | 839kB 32.6MB/s eta 0:00:01\r\u001b[K     |█████████████████▋              | 849kB 32.6MB/s eta 0:00:01\r\u001b[K     |█████████████████▉              | 860kB 32.6MB/s eta 0:00:01\r\u001b[K     |██████████████████              | 870kB 32.6MB/s eta 0:00:01\r\u001b[K     |██████████████████▏             | 880kB 32.6MB/s eta 0:00:01\r\u001b[K     |██████████████████▍             | 890kB 32.6MB/s eta 0:00:01\r\u001b[K     |██████████████████▋             | 901kB 32.6MB/s eta 0:00:01\r\u001b[K     |██████████████████▉             | 911kB 32.6MB/s eta 0:00:01\r\u001b[K     |███████████████████             | 921kB 32.6MB/s eta 0:00:01\r\u001b[K     |███████████████████▎            | 931kB 32.6MB/s eta 0:00:01\r\u001b[K     |███████████████████▌            | 942kB 32.6MB/s eta 0:00:01\r\u001b[K     |███████████████████▊            | 952kB 32.6MB/s eta 0:00:01\r\u001b[K     |████████████████████            | 962kB 32.6MB/s eta 0:00:01\r\u001b[K     |████████████████████            | 972kB 32.6MB/s eta 0:00:01\r\u001b[K     |████████████████████▎           | 983kB 32.6MB/s eta 0:00:01\r\u001b[K     |████████████████████▌           | 993kB 32.6MB/s eta 0:00:01\r\u001b[K     |████████████████████▊           | 1.0MB 32.6MB/s eta 0:00:01\r\u001b[K     |█████████████████████           | 1.0MB 32.6MB/s eta 0:00:01\r\u001b[K     |█████████████████████▏          | 1.0MB 32.6MB/s eta 0:00:01\r\u001b[K     |█████████████████████▍          | 1.0MB 32.6MB/s eta 0:00:01\r\u001b[K     |█████████████████████▋          | 1.0MB 32.6MB/s eta 0:00:01\r\u001b[K     |█████████████████████▉          | 1.1MB 32.6MB/s eta 0:00:01\r\u001b[K     |██████████████████████          | 1.1MB 32.6MB/s eta 0:00:01\r\u001b[K     |██████████████████████▎         | 1.1MB 32.6MB/s eta 0:00:01\r\u001b[K     |██████████████████████▍         | 1.1MB 32.6MB/s eta 0:00:01\r\u001b[K     |██████████████████████▋         | 1.1MB 32.6MB/s eta 0:00:01\r\u001b[K     |██████████████████████▉         | 1.1MB 32.6MB/s eta 0:00:01\r\u001b[K     |███████████████████████         | 1.1MB 32.6MB/s eta 0:00:01\r\u001b[K     |███████████████████████▎        | 1.1MB 32.6MB/s eta 0:00:01\r\u001b[K     |███████████████████████▌        | 1.1MB 32.6MB/s eta 0:00:01\r\u001b[K     |███████████████████████▊        | 1.1MB 32.6MB/s eta 0:00:01\r\u001b[K     |████████████████████████        | 1.2MB 32.6MB/s eta 0:00:01\r\u001b[K     |████████████████████████▏       | 1.2MB 32.6MB/s eta 0:00:01\r\u001b[K     |████████████████████████▍       | 1.2MB 32.6MB/s eta 0:00:01\r\u001b[K     |████████████████████████▌       | 1.2MB 32.6MB/s eta 0:00:01\r\u001b[K     |████████████████████████▊       | 1.2MB 32.6MB/s eta 0:00:01\r\u001b[K     |█████████████████████████       | 1.2MB 32.6MB/s eta 0:00:01\r\u001b[K     |█████████████████████████▏      | 1.2MB 32.6MB/s eta 0:00:01\r\u001b[K     |█████████████████████████▍      | 1.2MB 32.6MB/s eta 0:00:01\r\u001b[K     |█████████████████████████▋      | 1.2MB 32.6MB/s eta 0:00:01\r\u001b[K     |█████████████████████████▉      | 1.2MB 32.6MB/s eta 0:00:01\r\u001b[K     |██████████████████████████      | 1.3MB 32.6MB/s eta 0:00:01\r\u001b[K     |██████████████████████████▎     | 1.3MB 32.6MB/s eta 0:00:01\r\u001b[K     |██████████████████████████▌     | 1.3MB 32.6MB/s eta 0:00:01\r\u001b[K     |██████████████████████████▊     | 1.3MB 32.6MB/s eta 0:00:01\r\u001b[K     |██████████████████████████▉     | 1.3MB 32.6MB/s eta 0:00:01\r\u001b[K     |███████████████████████████     | 1.3MB 32.6MB/s eta 0:00:01\r\u001b[K     |███████████████████████████▎    | 1.3MB 32.6MB/s eta 0:00:01\r\u001b[K     |███████████████████████████▌    | 1.3MB 32.6MB/s eta 0:00:01\r\u001b[K     |███████████████████████████▊    | 1.3MB 32.6MB/s eta 0:00:01\r\u001b[K     |████████████████████████████    | 1.4MB 32.6MB/s eta 0:00:01\r\u001b[K     |████████████████████████████▏   | 1.4MB 32.6MB/s eta 0:00:01\r\u001b[K     |████████████████████████████▍   | 1.4MB 32.6MB/s eta 0:00:01\r\u001b[K     |████████████████████████████▋   | 1.4MB 32.6MB/s eta 0:00:01\r\u001b[K     |████████████████████████████▉   | 1.4MB 32.6MB/s eta 0:00:01\r\u001b[K     |█████████████████████████████   | 1.4MB 32.6MB/s eta 0:00:01\r\u001b[K     |█████████████████████████████▏  | 1.4MB 32.6MB/s eta 0:00:01\r\u001b[K     |█████████████████████████████▍  | 1.4MB 32.6MB/s eta 0:00:01\r\u001b[K     |█████████████████████████████▋  | 1.4MB 32.6MB/s eta 0:00:01\r\u001b[K     |█████████████████████████████▉  | 1.4MB 32.6MB/s eta 0:00:01\r\u001b[K     |██████████████████████████████  | 1.5MB 32.6MB/s eta 0:00:01\r\u001b[K     |██████████████████████████████▎ | 1.5MB 32.6MB/s eta 0:00:01\r\u001b[K     |██████████████████████████████▌ | 1.5MB 32.6MB/s eta 0:00:01\r\u001b[K     |██████████████████████████████▊ | 1.5MB 32.6MB/s eta 0:00:01\r\u001b[K     |███████████████████████████████ | 1.5MB 32.6MB/s eta 0:00:01\r\u001b[K     |███████████████████████████████▏| 1.5MB 32.6MB/s eta 0:00:01\r\u001b[K     |███████████████████████████████▎| 1.5MB 32.6MB/s eta 0:00:01\r\u001b[K     |███████████████████████████████▌| 1.5MB 32.6MB/s eta 0:00:01\r\u001b[K     |███████████████████████████████▊| 1.5MB 32.6MB/s eta 0:00:01\r\u001b[K     |████████████████████████████████| 1.5MB 32.6MB/s eta 0:00:01\r\u001b[K     |████████████████████████████████| 1.6MB 32.6MB/s \n",
            "\u001b[?25hInstalling collected packages: pip\n",
            "  Found existing installation: pip 19.3.1\n",
            "    Uninstalling pip-19.3.1:\n",
            "      Successfully uninstalled pip-19.3.1\n",
            "Successfully installed pip-21.1.3\n",
            "Requirement already satisfied: setuptools in /usr/local/lib/python3.7/dist-packages (57.0.0)\n",
            "Collecting setuptools\n",
            "  Downloading setuptools-57.1.0-py3-none-any.whl (818 kB)\n",
            "\u001b[K     |████████████████████████████████| 818 kB 27.2 MB/s \n",
            "\u001b[?25hRequirement already satisfied: wheel in /usr/local/lib/python3.7/dist-packages (0.36.2)\n",
            "Installing collected packages: setuptools\n",
            "  Attempting uninstall: setuptools\n",
            "    Found existing installation: setuptools 57.0.0\n",
            "    Uninstalling setuptools-57.0.0:\n",
            "      Successfully uninstalled setuptools-57.0.0\n",
            "\u001b[31mERROR: pip's dependency resolver does not currently take into account all the packages that are installed. This behaviour is the source of the following dependency conflicts.\n",
            "datascience 0.10.6 requires folium==0.2.1, but you have folium 0.8.3 which is incompatible.\u001b[0m\n",
            "Successfully installed setuptools-57.1.0\n",
            "\u001b[33mWARNING: Running pip as the 'root' user can result in broken permissions and conflicting behaviour with the system package manager. It is recommended to use a virtual environment instead: https://pip.pypa.io/warnings/venv\u001b[0m\n"
          ],
          "name": "stdout"
        },
        {
          "output_type": "display_data",
          "data": {
            "application/vnd.colab-display-data+json": {
              "pip_warning": {
                "packages": [
                  "pkg_resources"
                ]
              }
            }
          },
          "metadata": {
            "tags": []
          }
        },
        {
          "output_type": "stream",
          "text": [
            "Collecting mxnet<2.0.0\n",
            "  Downloading mxnet-1.8.0.post0-py2.py3-none-manylinux2014_x86_64.whl (46.9 MB)\n",
            "\u001b[K     |████████████████████████████████| 46.9 MB 42 kB/s \n",
            "\u001b[?25hRequirement already satisfied: requests<3,>=2.20.0 in /usr/local/lib/python3.7/dist-packages (from mxnet<2.0.0) (2.23.0)\n",
            "Collecting graphviz<0.9.0,>=0.8.1\n",
            "  Downloading graphviz-0.8.4-py2.py3-none-any.whl (16 kB)\n",
            "Requirement already satisfied: numpy<2.0.0,>1.16.0 in /usr/local/lib/python3.7/dist-packages (from mxnet<2.0.0) (1.19.5)\n",
            "Requirement already satisfied: chardet<4,>=3.0.2 in /usr/local/lib/python3.7/dist-packages (from requests<3,>=2.20.0->mxnet<2.0.0) (3.0.4)\n",
            "Requirement already satisfied: urllib3!=1.25.0,!=1.25.1,<1.26,>=1.21.1 in /usr/local/lib/python3.7/dist-packages (from requests<3,>=2.20.0->mxnet<2.0.0) (1.24.3)\n",
            "Requirement already satisfied: idna<3,>=2.5 in /usr/local/lib/python3.7/dist-packages (from requests<3,>=2.20.0->mxnet<2.0.0) (2.10)\n",
            "Requirement already satisfied: certifi>=2017.4.17 in /usr/local/lib/python3.7/dist-packages (from requests<3,>=2.20.0->mxnet<2.0.0) (2021.5.30)\n",
            "Installing collected packages: graphviz, mxnet\n",
            "  Attempting uninstall: graphviz\n",
            "    Found existing installation: graphviz 0.10.1\n",
            "    Uninstalling graphviz-0.10.1:\n",
            "      Successfully uninstalled graphviz-0.10.1\n",
            "Successfully installed graphviz-0.8.4 mxnet-1.8.0.post0\n",
            "\u001b[33mWARNING: Running pip as the 'root' user can result in broken permissions and conflicting behaviour with the system package manager. It is recommended to use a virtual environment instead: https://pip.pypa.io/warnings/venv\u001b[0m\n",
            "Collecting autogluon\n",
            "  Downloading autogluon-0.2.0-py3-none-any.whl (5.4 kB)\n",
            "Collecting autogluon.vision==0.2.0\n",
            "  Downloading autogluon.vision-0.2.0-py3-none-any.whl (31 kB)\n",
            "Collecting autogluon.tabular[all]==0.2.0\n",
            "  Downloading autogluon.tabular-0.2.0-py3-none-any.whl (250 kB)\n",
            "\u001b[K     |████████████████████████████████| 250 kB 45.7 MB/s \n",
            "\u001b[?25hCollecting autogluon.features==0.2.0\n",
            "  Downloading autogluon.features-0.2.0-py3-none-any.whl (48 kB)\n",
            "\u001b[K     |████████████████████████████████| 48 kB 6.7 MB/s \n",
            "\u001b[?25hCollecting autogluon.core==0.2.0\n",
            "  Downloading autogluon.core-0.2.0-py3-none-any.whl (334 kB)\n",
            "\u001b[K     |████████████████████████████████| 334 kB 51.9 MB/s \n",
            "\u001b[?25hCollecting autogluon.mxnet==0.2.0\n",
            "  Downloading autogluon.mxnet-0.2.0-py3-none-any.whl (28 kB)\n",
            "Collecting autogluon.extra==0.2.0\n",
            "  Downloading autogluon.extra-0.2.0-py3-none-any.whl (24 kB)\n",
            "Collecting autogluon.text==0.2.0\n",
            "  Downloading autogluon.text-0.2.0-py3-none-any.whl (48 kB)\n",
            "\u001b[K     |████████████████████████████████| 48 kB 6.2 MB/s \n",
            "\u001b[?25hCollecting scikit-learn<0.25,>=0.23.2\n",
            "  Downloading scikit_learn-0.24.2-cp37-cp37m-manylinux2010_x86_64.whl (22.3 MB)\n",
            "\u001b[K     |████████████████████████████████| 22.3 MB 1.2 MB/s \n",
            "\u001b[?25hRequirement already satisfied: graphviz<0.9.0,>=0.8.1 in /usr/local/lib/python3.7/dist-packages (from autogluon.core==0.2.0->autogluon) (0.8.4)\n",
            "Requirement already satisfied: cython in /usr/local/lib/python3.7/dist-packages (from autogluon.core==0.2.0->autogluon) (0.29.23)\n",
            "Collecting ConfigSpace==0.4.18\n",
            "  Downloading ConfigSpace-0.4.18.tar.gz (950 kB)\n",
            "\u001b[K     |████████████████████████████████| 950 kB 51.0 MB/s \n",
            "\u001b[?25h  Installing build dependencies ... \u001b[?25l\u001b[?25hdone\n",
            "  Getting requirements to build wheel ... \u001b[?25l\u001b[?25hdone\n",
            "    Preparing wheel metadata ... \u001b[?25l\u001b[?25hdone\n",
            "Collecting boto3\n",
            "  Downloading boto3-1.17.109-py2.py3-none-any.whl (131 kB)\n",
            "\u001b[K     |████████████████████████████████| 131 kB 64.1 MB/s \n",
            "\u001b[?25hCollecting dill==0.3.3\n",
            "  Downloading dill-0.3.3-py2.py3-none-any.whl (81 kB)\n",
            "\u001b[K     |████████████████████████████████| 81 kB 12.0 MB/s \n",
            "\u001b[?25hRequirement already satisfied: pandas<2.0,>=1.0.0 in /usr/local/lib/python3.7/dist-packages (from autogluon.core==0.2.0->autogluon) (1.1.5)\n",
            "Collecting paramiko>=2.4\n",
            "  Downloading paramiko-2.7.2-py2.py3-none-any.whl (206 kB)\n",
            "\u001b[K     |████████████████████████████████| 206 kB 71.6 MB/s \n",
            "\u001b[?25hRequirement already satisfied: tornado>=5.0.1 in /usr/local/lib/python3.7/dist-packages (from autogluon.core==0.2.0->autogluon) (5.1.1)\n",
            "Requirement already satisfied: numpy==1.19.5 in /usr/local/lib/python3.7/dist-packages (from autogluon.core==0.2.0->autogluon) (1.19.5)\n",
            "Requirement already satisfied: autograd>=1.3 in /usr/local/lib/python3.7/dist-packages (from autogluon.core==0.2.0->autogluon) (1.3)\n",
            "Requirement already satisfied: matplotlib in /usr/local/lib/python3.7/dist-packages (from autogluon.core==0.2.0->autogluon) (3.2.2)\n",
            "Collecting distributed>=2.6.0\n",
            "  Downloading distributed-2021.7.0-py3-none-any.whl (1.0 MB)\n",
            "\u001b[K     |████████████████████████████████| 1.0 MB 68.7 MB/s \n",
            "\u001b[?25hRequirement already satisfied: tqdm>=4.38.0 in /usr/local/lib/python3.7/dist-packages (from autogluon.core==0.2.0->autogluon) (4.41.1)\n",
            "Requirement already satisfied: requests in /usr/local/lib/python3.7/dist-packages (from autogluon.core==0.2.0->autogluon) (2.23.0)\n",
            "Collecting scipy<1.7,>=1.5.4\n",
            "  Downloading scipy-1.6.3-cp37-cp37m-manylinux1_x86_64.whl (27.4 MB)\n",
            "\u001b[K     |████████████████████████████████| 27.4 MB 97 kB/s \n",
            "\u001b[?25hRequirement already satisfied: dask>=2.6.0 in /usr/local/lib/python3.7/dist-packages (from autogluon.core==0.2.0->autogluon) (2.12.0)\n",
            "Collecting gluoncv<0.11,>=0.10.1.post0\n",
            "  Downloading gluoncv-0.10.3-py3-none-any.whl (1.3 MB)\n",
            "\u001b[K     |████████████████████████████████| 1.3 MB 63.7 MB/s \n",
            "\u001b[?25hCollecting openml\n",
            "  Downloading openml-0.12.2.tar.gz (119 kB)\n",
            "\u001b[K     |████████████████████████████████| 119 kB 67.6 MB/s \n",
            "\u001b[?25hRequirement already satisfied: pytest in /usr/local/lib/python3.7/dist-packages (from autogluon.extra==0.2.0->autogluon) (3.6.4)\n",
            "Requirement already satisfied: Pillow<=8.1 in /usr/local/lib/python3.7/dist-packages (from autogluon.mxnet==0.2.0->autogluon) (7.1.2)\n",
            "Requirement already satisfied: networkx<3.0,>=2.3 in /usr/local/lib/python3.7/dist-packages (from autogluon.tabular[all]==0.2.0->autogluon) (2.5.1)\n",
            "Collecting psutil<5.9,>=5.7.3\n",
            "  Downloading psutil-5.8.0-cp37-cp37m-manylinux2010_x86_64.whl (296 kB)\n",
            "\u001b[K     |████████████████████████████████| 296 kB 71.9 MB/s \n",
            "\u001b[?25hCollecting xgboost<1.4,>=1.3.2\n",
            "  Downloading xgboost-1.3.3-py3-none-manylinux2010_x86_64.whl (157.5 MB)\n",
            "\u001b[K     |████████████████████████████████| 157.5 MB 67 kB/s \n",
            "\u001b[?25hCollecting lightgbm<4.0,>=3.0\n",
            "  Downloading lightgbm-3.2.1-py3-none-manylinux1_x86_64.whl (2.0 MB)\n",
            "\u001b[K     |████████████████████████████████| 2.0 MB 35.9 MB/s \n",
            "\u001b[?25hCollecting fastai<3.0,>=2.0\n",
            "  Downloading fastai-2.4-py3-none-any.whl (187 kB)\n",
            "\u001b[K     |████████████████████████████████| 187 kB 71.3 MB/s \n",
            "\u001b[?25hCollecting catboost<0.26,>=0.24.0\n",
            "  Downloading catboost-0.25.1-cp37-none-manylinux1_x86_64.whl (67.3 MB)\n",
            "\u001b[K     |████████████████████████████████| 67.3 MB 4.4 kB/s \n",
            "\u001b[?25hRequirement already satisfied: torch<2.0,>=1.0 in /usr/local/lib/python3.7/dist-packages (from autogluon.tabular[all]==0.2.0->autogluon) (1.9.0+cu102)\n",
            "Collecting autogluon-contrib-nlp==0.0.1b20210201\n",
            "  Downloading autogluon_contrib_nlp-0.0.1b20210201-py3-none-any.whl (157 kB)\n",
            "\u001b[K     |████████████████████████████████| 157 kB 69.8 MB/s \n",
            "\u001b[?25hRequirement already satisfied: pyarrow in /usr/local/lib/python3.7/dist-packages (from autogluon.text==0.2.0->autogluon) (3.0.0)\n",
            "Requirement already satisfied: protobuf in /usr/local/lib/python3.7/dist-packages (from autogluon-contrib-nlp==0.0.1b20210201->autogluon.text==0.2.0->autogluon) (3.17.3)\n",
            "Collecting sacremoses>=0.0.38\n",
            "  Downloading sacremoses-0.0.45-py3-none-any.whl (895 kB)\n",
            "\u001b[K     |████████████████████████████████| 895 kB 57.6 MB/s \n",
            "\u001b[?25hRequirement already satisfied: regex in /usr/local/lib/python3.7/dist-packages (from autogluon-contrib-nlp==0.0.1b20210201->autogluon.text==0.2.0->autogluon) (2019.12.20)\n",
            "Collecting flake8\n",
            "  Downloading flake8-3.9.2-py2.py3-none-any.whl (73 kB)\n",
            "\u001b[K     |████████████████████████████████| 73 kB 1.9 MB/s \n",
            "\u001b[?25hCollecting yacs>=0.1.6\n",
            "  Downloading yacs-0.1.8-py3-none-any.whl (14 kB)\n",
            "Collecting tokenizers==0.9.4\n",
            "  Downloading tokenizers-0.9.4-cp37-cp37m-manylinux2010_x86_64.whl (2.9 MB)\n",
            "\u001b[K     |████████████████████████████████| 2.9 MB 55.6 MB/s \n",
            "\u001b[?25hCollecting sentencepiece==0.1.95\n",
            "  Downloading sentencepiece-0.1.95-cp37-cp37m-manylinux2014_x86_64.whl (1.2 MB)\n",
            "\u001b[K     |████████████████████████████████| 1.2 MB 55.3 MB/s \n",
            "\u001b[?25hCollecting sacrebleu\n",
            "  Downloading sacrebleu-1.5.1-py3-none-any.whl (54 kB)\n",
            "\u001b[K     |████████████████████████████████| 54 kB 3.8 MB/s \n",
            "\u001b[?25hCollecting contextvars\n",
            "  Downloading contextvars-2.4.tar.gz (9.6 kB)\n",
            "Collecting d8<1.0,>=0.0.2\n",
            "  Downloading d8-0.0.2.post0-py3-none-any.whl (28 kB)\n",
            "Requirement already satisfied: pyparsing in /usr/local/lib/python3.7/dist-packages (from ConfigSpace==0.4.18->autogluon.core==0.2.0->autogluon) (2.4.7)\n",
            "Requirement already satisfied: future>=0.15.2 in /usr/local/lib/python3.7/dist-packages (from autograd>=1.3->autogluon.core==0.2.0->autogluon) (0.16.0)\n",
            "Requirement already satisfied: six in /usr/local/lib/python3.7/dist-packages (from catboost<0.26,>=0.24.0->autogluon.tabular[all]==0.2.0->autogluon) (1.15.0)\n",
            "Requirement already satisfied: plotly in /usr/local/lib/python3.7/dist-packages (from catboost<0.26,>=0.24.0->autogluon.tabular[all]==0.2.0->autogluon) (4.4.1)\n",
            "Requirement already satisfied: kaggle in /usr/local/lib/python3.7/dist-packages (from d8<1.0,>=0.0.2->autogluon.vision==0.2.0->autogluon) (1.5.12)\n",
            "Collecting xxhash\n",
            "  Downloading xxhash-2.0.2-cp37-cp37m-manylinux2010_x86_64.whl (243 kB)\n",
            "\u001b[K     |████████████████████████████████| 243 kB 69.9 MB/s \n",
            "\u001b[?25hRequirement already satisfied: tblib>=1.6.0 in /usr/local/lib/python3.7/dist-packages (from distributed>=2.6.0->autogluon.core==0.2.0->autogluon) (1.7.0)\n",
            "Requirement already satisfied: msgpack>=0.6.0 in /usr/local/lib/python3.7/dist-packages (from distributed>=2.6.0->autogluon.core==0.2.0->autogluon) (1.0.2)\n",
            "Collecting dask>=2.6.0\n",
            "  Downloading dask-2021.7.0-py3-none-any.whl (977 kB)\n",
            "\u001b[K     |████████████████████████████████| 977 kB 67.2 MB/s \n",
            "\u001b[?25hRequirement already satisfied: toolz>=0.8.2 in /usr/local/lib/python3.7/dist-packages (from distributed>=2.6.0->autogluon.core==0.2.0->autogluon) (0.11.1)\n",
            "Collecting cloudpickle>=1.5.0\n",
            "  Downloading cloudpickle-1.6.0-py3-none-any.whl (23 kB)\n",
            "Requirement already satisfied: sortedcontainers!=2.0.0,!=2.0.1 in /usr/local/lib/python3.7/dist-packages (from distributed>=2.6.0->autogluon.core==0.2.0->autogluon) (2.4.0)\n",
            "Requirement already satisfied: zict>=0.1.3 in /usr/local/lib/python3.7/dist-packages (from distributed>=2.6.0->autogluon.core==0.2.0->autogluon) (2.0.0)\n",
            "Requirement already satisfied: setuptools in /usr/local/lib/python3.7/dist-packages (from distributed>=2.6.0->autogluon.core==0.2.0->autogluon) (57.1.0)\n",
            "Requirement already satisfied: pyyaml in /usr/local/lib/python3.7/dist-packages (from distributed>=2.6.0->autogluon.core==0.2.0->autogluon) (3.13)\n",
            "Requirement already satisfied: click>=6.6 in /usr/local/lib/python3.7/dist-packages (from distributed>=2.6.0->autogluon.core==0.2.0->autogluon) (7.1.2)\n",
            "Collecting fsspec>=0.6.0\n",
            "  Downloading fsspec-2021.6.1-py3-none-any.whl (115 kB)\n",
            "\u001b[K     |████████████████████████████████| 115 kB 53.8 MB/s \n",
            "\u001b[?25hCollecting partd>=0.3.10\n",
            "  Downloading partd-1.2.0-py3-none-any.whl (19 kB)\n",
            "Requirement already satisfied: packaging in /usr/local/lib/python3.7/dist-packages (from fastai<3.0,>=2.0->autogluon.tabular[all]==0.2.0->autogluon) (20.9)\n",
            "Requirement already satisfied: pip in /usr/local/lib/python3.7/dist-packages (from fastai<3.0,>=2.0->autogluon.tabular[all]==0.2.0->autogluon) (21.1.3)\n",
            "Requirement already satisfied: fastprogress>=0.2.4 in /usr/local/lib/python3.7/dist-packages (from fastai<3.0,>=2.0->autogluon.tabular[all]==0.2.0->autogluon) (1.0.0)\n",
            "Collecting fastcore<1.4,>=1.3.8\n",
            "  Downloading fastcore-1.3.20-py3-none-any.whl (53 kB)\n",
            "\u001b[K     |████████████████████████████████| 53 kB 2.9 MB/s \n",
            "\u001b[?25hRequirement already satisfied: torchvision>=0.8.2 in /usr/local/lib/python3.7/dist-packages (from fastai<3.0,>=2.0->autogluon.tabular[all]==0.2.0->autogluon) (0.10.0+cu102)\n",
            "Requirement already satisfied: spacy<4 in /usr/local/lib/python3.7/dist-packages (from fastai<3.0,>=2.0->autogluon.tabular[all]==0.2.0->autogluon) (2.2.4)\n",
            "Requirement already satisfied: opencv-python in /usr/local/lib/python3.7/dist-packages (from gluoncv<0.11,>=0.10.1.post0->autogluon.extra==0.2.0->autogluon) (4.1.2.30)\n",
            "Collecting portalocker\n",
            "  Downloading portalocker-2.3.0-py2.py3-none-any.whl (15 kB)\n",
            "Collecting autocfg\n",
            "  Downloading autocfg-0.0.8-py3-none-any.whl (13 kB)\n",
            "Requirement already satisfied: wheel in /usr/local/lib/python3.7/dist-packages (from lightgbm<4.0,>=3.0->autogluon.tabular[all]==0.2.0->autogluon) (0.36.2)\n",
            "Requirement already satisfied: decorator<5,>=4.3 in /usr/local/lib/python3.7/dist-packages (from networkx<3.0,>=2.3->autogluon.tabular[all]==0.2.0->autogluon) (4.4.2)\n",
            "Requirement already satisfied: python-dateutil>=2.7.3 in /usr/local/lib/python3.7/dist-packages (from pandas<2.0,>=1.0.0->autogluon.core==0.2.0->autogluon) (2.8.1)\n",
            "Requirement already satisfied: pytz>=2017.2 in /usr/local/lib/python3.7/dist-packages (from pandas<2.0,>=1.0.0->autogluon.core==0.2.0->autogluon) (2018.9)\n",
            "Collecting bcrypt>=3.1.3\n",
            "  Downloading bcrypt-3.2.0-cp36-abi3-manylinux2010_x86_64.whl (63 kB)\n",
            "\u001b[K     |████████████████████████████████| 63 kB 2.8 MB/s \n",
            "\u001b[?25hCollecting cryptography>=2.5\n",
            "  Downloading cryptography-3.4.7-cp36-abi3-manylinux2014_x86_64.whl (3.2 MB)\n",
            "\u001b[K     |████████████████████████████████| 3.2 MB 61.7 MB/s \n",
            "\u001b[?25hCollecting pynacl>=1.0.1\n",
            "  Downloading PyNaCl-1.4.0-cp35-abi3-manylinux1_x86_64.whl (961 kB)\n",
            "\u001b[K     |████████████████████████████████| 961 kB 45.2 MB/s \n",
            "\u001b[?25hRequirement already satisfied: cffi>=1.1 in /usr/local/lib/python3.7/dist-packages (from bcrypt>=3.1.3->paramiko>=2.4->autogluon.core==0.2.0->autogluon) (1.14.5)\n",
            "Requirement already satisfied: pycparser in /usr/local/lib/python3.7/dist-packages (from cffi>=1.1->bcrypt>=3.1.3->paramiko>=2.4->autogluon.core==0.2.0->autogluon) (2.20)\n",
            "Collecting locket\n",
            "  Downloading locket-0.2.1-py2.py3-none-any.whl (4.1 kB)\n",
            "Requirement already satisfied: joblib in /usr/local/lib/python3.7/dist-packages (from sacremoses>=0.0.38->autogluon-contrib-nlp==0.0.1b20210201->autogluon.text==0.2.0->autogluon) (1.0.1)\n",
            "Collecting threadpoolctl>=2.0.0\n",
            "  Downloading threadpoolctl-2.2.0-py3-none-any.whl (12 kB)\n",
            "Requirement already satisfied: wasabi<1.1.0,>=0.4.0 in /usr/local/lib/python3.7/dist-packages (from spacy<4->fastai<3.0,>=2.0->autogluon.tabular[all]==0.2.0->autogluon) (0.8.2)\n",
            "Requirement already satisfied: thinc==7.4.0 in /usr/local/lib/python3.7/dist-packages (from spacy<4->fastai<3.0,>=2.0->autogluon.tabular[all]==0.2.0->autogluon) (7.4.0)\n",
            "Requirement already satisfied: plac<1.2.0,>=0.9.6 in /usr/local/lib/python3.7/dist-packages (from spacy<4->fastai<3.0,>=2.0->autogluon.tabular[all]==0.2.0->autogluon) (1.1.3)\n",
            "Requirement already satisfied: preshed<3.1.0,>=3.0.2 in /usr/local/lib/python3.7/dist-packages (from spacy<4->fastai<3.0,>=2.0->autogluon.tabular[all]==0.2.0->autogluon) (3.0.5)\n",
            "Requirement already satisfied: srsly<1.1.0,>=1.0.2 in /usr/local/lib/python3.7/dist-packages (from spacy<4->fastai<3.0,>=2.0->autogluon.tabular[all]==0.2.0->autogluon) (1.0.5)\n",
            "Requirement already satisfied: cymem<2.1.0,>=2.0.2 in /usr/local/lib/python3.7/dist-packages (from spacy<4->fastai<3.0,>=2.0->autogluon.tabular[all]==0.2.0->autogluon) (2.0.5)\n",
            "Requirement already satisfied: catalogue<1.1.0,>=0.0.7 in /usr/local/lib/python3.7/dist-packages (from spacy<4->fastai<3.0,>=2.0->autogluon.tabular[all]==0.2.0->autogluon) (1.0.0)\n",
            "Requirement already satisfied: blis<0.5.0,>=0.4.0 in /usr/local/lib/python3.7/dist-packages (from spacy<4->fastai<3.0,>=2.0->autogluon.tabular[all]==0.2.0->autogluon) (0.4.1)\n",
            "Requirement already satisfied: murmurhash<1.1.0,>=0.28.0 in /usr/local/lib/python3.7/dist-packages (from spacy<4->fastai<3.0,>=2.0->autogluon.tabular[all]==0.2.0->autogluon) (1.0.5)\n",
            "Requirement already satisfied: importlib-metadata>=0.20 in /usr/local/lib/python3.7/dist-packages (from catalogue<1.1.0,>=0.0.7->spacy<4->fastai<3.0,>=2.0->autogluon.tabular[all]==0.2.0->autogluon) (4.6.0)\n",
            "Requirement already satisfied: typing-extensions>=3.6.4 in /usr/local/lib/python3.7/dist-packages (from importlib-metadata>=0.20->catalogue<1.1.0,>=0.0.7->spacy<4->fastai<3.0,>=2.0->autogluon.tabular[all]==0.2.0->autogluon) (3.7.4.3)\n",
            "Requirement already satisfied: zipp>=0.5 in /usr/local/lib/python3.7/dist-packages (from importlib-metadata>=0.20->catalogue<1.1.0,>=0.0.7->spacy<4->fastai<3.0,>=2.0->autogluon.tabular[all]==0.2.0->autogluon) (3.4.1)\n",
            "Requirement already satisfied: certifi>=2017.4.17 in /usr/local/lib/python3.7/dist-packages (from requests->autogluon.core==0.2.0->autogluon) (2021.5.30)\n",
            "Requirement already satisfied: idna<3,>=2.5 in /usr/local/lib/python3.7/dist-packages (from requests->autogluon.core==0.2.0->autogluon) (2.10)\n",
            "Requirement already satisfied: chardet<4,>=3.0.2 in /usr/local/lib/python3.7/dist-packages (from requests->autogluon.core==0.2.0->autogluon) (3.0.4)\n",
            "Requirement already satisfied: urllib3!=1.25.0,!=1.25.1,<1.26,>=1.21.1 in /usr/local/lib/python3.7/dist-packages (from requests->autogluon.core==0.2.0->autogluon) (1.24.3)\n",
            "Requirement already satisfied: heapdict in /usr/local/lib/python3.7/dist-packages (from zict>=0.1.3->distributed>=2.6.0->autogluon.core==0.2.0->autogluon) (1.0.1)\n",
            "Collecting jmespath<1.0.0,>=0.7.1\n",
            "  Downloading jmespath-0.10.0-py2.py3-none-any.whl (24 kB)\n",
            "Collecting s3transfer<0.5.0,>=0.4.0\n",
            "  Downloading s3transfer-0.4.2-py2.py3-none-any.whl (79 kB)\n",
            "\u001b[K     |████████████████████████████████| 79 kB 8.7 MB/s \n",
            "\u001b[?25hCollecting botocore<1.21.0,>=1.20.109\n",
            "  Downloading botocore-1.20.109-py2.py3-none-any.whl (7.7 MB)\n",
            "\u001b[K     |████████████████████████████████| 7.7 MB 54.3 MB/s \n",
            "\u001b[?25hCollecting urllib3!=1.25.0,!=1.25.1,<1.26,>=1.21.1\n",
            "  Downloading urllib3-1.25.11-py2.py3-none-any.whl (127 kB)\n",
            "\u001b[K     |████████████████████████████████| 127 kB 68.1 MB/s \n",
            "\u001b[?25hCollecting immutables>=0.9\n",
            "  Downloading immutables-0.15-cp37-cp37m-manylinux1_x86_64.whl (101 kB)\n",
            "\u001b[K     |████████████████████████████████| 101 kB 13.6 MB/s \n",
            "\u001b[?25hCollecting pycodestyle<2.8.0,>=2.7.0\n",
            "  Downloading pycodestyle-2.7.0-py2.py3-none-any.whl (41 kB)\n",
            "\u001b[K     |████████████████████████████████| 41 kB 713 kB/s \n",
            "\u001b[?25hCollecting mccabe<0.7.0,>=0.6.0\n",
            "  Downloading mccabe-0.6.1-py2.py3-none-any.whl (8.6 kB)\n",
            "Collecting pyflakes<2.4.0,>=2.3.0\n",
            "  Downloading pyflakes-2.3.1-py2.py3-none-any.whl (68 kB)\n",
            "\u001b[K     |████████████████████████████████| 68 kB 8.9 MB/s \n",
            "\u001b[?25hRequirement already satisfied: python-slugify in /usr/local/lib/python3.7/dist-packages (from kaggle->d8<1.0,>=0.0.2->autogluon.vision==0.2.0->autogluon) (5.0.2)\n",
            "Requirement already satisfied: kiwisolver>=1.0.1 in /usr/local/lib/python3.7/dist-packages (from matplotlib->autogluon.core==0.2.0->autogluon) (1.3.1)\n",
            "Requirement already satisfied: cycler>=0.10 in /usr/local/lib/python3.7/dist-packages (from matplotlib->autogluon.core==0.2.0->autogluon) (0.10.0)\n",
            "Collecting liac-arff>=2.4.0\n",
            "  Downloading liac-arff-2.5.0.tar.gz (13 kB)\n",
            "Collecting xmltodict\n",
            "  Downloading xmltodict-0.12.0-py2.py3-none-any.whl (9.2 kB)\n",
            "Collecting minio\n",
            "  Downloading minio-7.1.0-py3-none-any.whl (75 kB)\n",
            "\u001b[K     |████████████████████████████████| 75 kB 5.3 MB/s \n",
            "\u001b[?25hRequirement already satisfied: retrying>=1.3.3 in /usr/local/lib/python3.7/dist-packages (from plotly->catboost<0.26,>=0.24.0->autogluon.tabular[all]==0.2.0->autogluon) (1.3.3)\n",
            "Requirement already satisfied: more-itertools>=4.0.0 in /usr/local/lib/python3.7/dist-packages (from pytest->autogluon.extra==0.2.0->autogluon) (8.8.0)\n",
            "Requirement already satisfied: atomicwrites>=1.0 in /usr/local/lib/python3.7/dist-packages (from pytest->autogluon.extra==0.2.0->autogluon) (1.4.0)\n",
            "Requirement already satisfied: pluggy<0.8,>=0.5 in /usr/local/lib/python3.7/dist-packages (from pytest->autogluon.extra==0.2.0->autogluon) (0.7.1)\n",
            "Requirement already satisfied: py>=1.5.0 in /usr/local/lib/python3.7/dist-packages (from pytest->autogluon.extra==0.2.0->autogluon) (1.10.0)\n",
            "Requirement already satisfied: attrs>=17.4.0 in /usr/local/lib/python3.7/dist-packages (from pytest->autogluon.extra==0.2.0->autogluon) (21.2.0)\n",
            "Requirement already satisfied: text-unidecode>=1.3 in /usr/local/lib/python3.7/dist-packages (from python-slugify->kaggle->d8<1.0,>=0.0.2->autogluon.vision==0.2.0->autogluon) (1.3)\n",
            "Collecting portalocker\n",
            "  Downloading portalocker-2.0.0-py2.py3-none-any.whl (11 kB)\n",
            "Building wheels for collected packages: ConfigSpace, contextvars, openml, liac-arff\n",
            "  Building wheel for ConfigSpace (PEP 517) ... \u001b[?25l\u001b[?25hdone\n",
            "  Created wheel for ConfigSpace: filename=ConfigSpace-0.4.18-cp37-cp37m-linux_x86_64.whl size=2880047 sha256=c1e5cb008ae4109c05d6c7c499e6d4517e305910fcf70152ae24ac4614d46790\n",
            "  Stored in directory: /root/.cache/pip/wheels/36/f7/0f/36f368c419ea1a8024fc3d6c078c3111dfef43fa1d14cfebe0\n",
            "  Building wheel for contextvars (setup.py) ... \u001b[?25l\u001b[?25hdone\n",
            "  Created wheel for contextvars: filename=contextvars-2.4-py3-none-any.whl size=7680 sha256=0a239e5bba7ee9a12fddbfaabdb96ae40804878f9f9a1b66392d53224d98e47b\n",
            "  Stored in directory: /root/.cache/pip/wheels/0a/11/79/e70e668095c0bb1f94718af672ef2d35ee7a023fee56ef54d9\n",
            "  Building wheel for openml (setup.py) ... \u001b[?25l\u001b[?25hdone\n",
            "  Created wheel for openml: filename=openml-0.12.2-py3-none-any.whl size=137326 sha256=ac16075cafc6cdce1ebab89a81b6ef270a187aa3578414545f4c4e6196b806fa\n",
            "  Stored in directory: /root/.cache/pip/wheels/6a/20/88/cf4ac86aa18e2cd647ed16ebe274a5dacee9d0075fa02af250\n",
            "  Building wheel for liac-arff (setup.py) ... \u001b[?25l\u001b[?25hdone\n",
            "  Created wheel for liac-arff: filename=liac_arff-2.5.0-py3-none-any.whl size=11730 sha256=8869f9663a28c2f32d9e15e9c7bdf731f399640d364f72eb6e13898bdd4f9073\n",
            "  Stored in directory: /root/.cache/pip/wheels/1f/0f/15/332ca86cbebf25ddf98518caaf887945fbe1712b97a0f2493b\n",
            "Successfully built ConfigSpace contextvars openml liac-arff\n",
            "Installing collected packages: urllib3, locket, jmespath, partd, fsspec, cloudpickle, botocore, threadpoolctl, scipy, s3transfer, pynacl, psutil, dask, cryptography, bcrypt, scikit-learn, paramiko, distributed, dill, ConfigSpace, boto3, xmltodict, pyflakes, pycodestyle, portalocker, minio, mccabe, liac-arff, immutables, autogluon.core, yacs, xxhash, tokenizers, sentencepiece, sacremoses, sacrebleu, openml, flake8, fastcore, contextvars, autogluon.features, autocfg, xgboost, lightgbm, gluoncv, fastai, d8, catboost, autogluon.tabular, autogluon.mxnet, autogluon-contrib-nlp, autogluon.vision, autogluon.text, autogluon.extra, autogluon\n",
            "  Attempting uninstall: urllib3\n",
            "    Found existing installation: urllib3 1.24.3\n",
            "    Uninstalling urllib3-1.24.3:\n",
            "      Successfully uninstalled urllib3-1.24.3\n",
            "  Attempting uninstall: cloudpickle\n",
            "    Found existing installation: cloudpickle 1.3.0\n",
            "    Uninstalling cloudpickle-1.3.0:\n",
            "      Successfully uninstalled cloudpickle-1.3.0\n",
            "  Attempting uninstall: scipy\n",
            "    Found existing installation: scipy 1.4.1\n",
            "    Uninstalling scipy-1.4.1:\n",
            "      Successfully uninstalled scipy-1.4.1\n",
            "  Attempting uninstall: psutil\n",
            "    Found existing installation: psutil 5.4.8\n",
            "    Uninstalling psutil-5.4.8:\n",
            "      Successfully uninstalled psutil-5.4.8\n",
            "  Attempting uninstall: dask\n",
            "    Found existing installation: dask 2.12.0\n",
            "    Uninstalling dask-2.12.0:\n",
            "      Successfully uninstalled dask-2.12.0\n",
            "  Attempting uninstall: scikit-learn\n",
            "    Found existing installation: scikit-learn 0.22.2.post1\n",
            "    Uninstalling scikit-learn-0.22.2.post1:\n",
            "      Successfully uninstalled scikit-learn-0.22.2.post1\n",
            "  Attempting uninstall: distributed\n",
            "    Found existing installation: distributed 1.25.3\n",
            "    Uninstalling distributed-1.25.3:\n",
            "      Successfully uninstalled distributed-1.25.3\n",
            "  Attempting uninstall: dill\n",
            "    Found existing installation: dill 0.3.4\n",
            "    Uninstalling dill-0.3.4:\n",
            "      Successfully uninstalled dill-0.3.4\n",
            "  Attempting uninstall: xgboost\n",
            "    Found existing installation: xgboost 0.90\n",
            "    Uninstalling xgboost-0.90:\n",
            "      Successfully uninstalled xgboost-0.90\n",
            "  Attempting uninstall: lightgbm\n",
            "    Found existing installation: lightgbm 2.2.3\n",
            "    Uninstalling lightgbm-2.2.3:\n",
            "      Successfully uninstalled lightgbm-2.2.3\n",
            "  Attempting uninstall: fastai\n",
            "    Found existing installation: fastai 1.0.61\n",
            "    Uninstalling fastai-1.0.61:\n",
            "      Successfully uninstalled fastai-1.0.61\n",
            "\u001b[31mERROR: pip's dependency resolver does not currently take into account all the packages that are installed. This behaviour is the source of the following dependency conflicts.\n",
            "multiprocess 0.70.12.2 requires dill>=0.3.4, but you have dill 0.3.3 which is incompatible.\n",
            "datascience 0.10.6 requires folium==0.2.1, but you have folium 0.8.3 which is incompatible.\n",
            "albumentations 0.1.12 requires imgaug<0.2.7,>=0.2.5, but you have imgaug 0.2.9 which is incompatible.\u001b[0m\n",
            "Successfully installed ConfigSpace-0.4.18 autocfg-0.0.8 autogluon-0.2.0 autogluon-contrib-nlp-0.0.1b20210201 autogluon.core-0.2.0 autogluon.extra-0.2.0 autogluon.features-0.2.0 autogluon.mxnet-0.2.0 autogluon.tabular-0.2.0 autogluon.text-0.2.0 autogluon.vision-0.2.0 bcrypt-3.2.0 boto3-1.17.109 botocore-1.20.109 catboost-0.25.1 cloudpickle-1.6.0 contextvars-2.4 cryptography-3.4.7 d8-0.0.2.post0 dask-2021.7.0 dill-0.3.3 distributed-2021.7.0 fastai-2.4 fastcore-1.3.20 flake8-3.9.2 fsspec-2021.6.1 gluoncv-0.10.3 immutables-0.15 jmespath-0.10.0 liac-arff-2.5.0 lightgbm-3.2.1 locket-0.2.1 mccabe-0.6.1 minio-7.1.0 openml-0.12.2 paramiko-2.7.2 partd-1.2.0 portalocker-2.0.0 psutil-5.8.0 pycodestyle-2.7.0 pyflakes-2.3.1 pynacl-1.4.0 s3transfer-0.4.2 sacrebleu-1.5.1 sacremoses-0.0.45 scikit-learn-0.24.2 scipy-1.6.3 sentencepiece-0.1.95 threadpoolctl-2.2.0 tokenizers-0.9.4 urllib3-1.25.11 xgboost-1.3.3 xmltodict-0.12.0 xxhash-2.0.2 yacs-0.1.8\n",
            "\u001b[33mWARNING: Running pip as the 'root' user can result in broken permissions and conflicting behaviour with the system package manager. It is recommended to use a virtual environment instead: https://pip.pypa.io/warnings/venv\u001b[0m\n"
          ],
          "name": "stdout"
        },
        {
          "output_type": "display_data",
          "data": {
            "application/vnd.colab-display-data+json": {
              "pip_warning": {
                "packages": [
                  "contextvars",
                  "psutil"
                ]
              }
            }
          },
          "metadata": {
            "tags": []
          }
        },
        {
          "output_type": "stream",
          "text": [
            "\u001b[33mWARNING: Running pip as the 'root' user can result in broken permissions and conflicting behaviour with the system package manager. It is recommended to use a virtual environment instead: https://pip.pypa.io/warnings/venv\u001b[0m\n"
          ],
          "name": "stdout"
        }
      ]
    },
    {
      "cell_type": "code",
      "metadata": {
        "colab": {
          "resources": {
            "http://localhost:8080/nbextensions/google.colab/files.js": {
              "data": "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",
              "ok": true,
              "headers": [
                [
                  "content-type",
                  "application/javascript"
                ]
              ],
              "status": 200,
              "status_text": ""
            }
          },
          "base_uri": "https://localhost:8080/",
          "height": 97
        },
        "id": "p2PMceFkGkwT",
        "outputId": "64b2a100-ee8c-4079-fcad-8f8561ed9e78"
      },
      "source": [
        "files.upload()\n",
        "\n"
      ],
      "execution_count": null,
      "outputs": [
        {
          "output_type": "display_data",
          "data": {
            "text/html": [
              "\n",
              "     <input type=\"file\" id=\"files-190482ef-0537-4165-8a2d-a7d4214230f4\" name=\"files[]\" multiple disabled\n",
              "        style=\"border:none\" />\n",
              "     <output id=\"result-190482ef-0537-4165-8a2d-a7d4214230f4\">\n",
              "      Upload widget is only available when the cell has been executed in the\n",
              "      current browser session. Please rerun this cell to enable.\n",
              "      </output>\n",
              "      <script src=\"/nbextensions/google.colab/files.js\"></script> "
            ],
            "text/plain": [
              "<IPython.core.display.HTML object>"
            ]
          },
          "metadata": {
            "tags": []
          }
        },
        {
          "output_type": "stream",
          "text": [
            "Saving kaggle.json to kaggle.json\n"
          ],
          "name": "stdout"
        },
        {
          "output_type": "execute_result",
          "data": {
            "text/plain": [
              "{'kaggle.json': b'{\"username\":\"tmtong\",\"key\":\"9848504c1b29e606ee38ce5565f547ee\"}'}"
            ]
          },
          "metadata": {
            "tags": []
          },
          "execution_count": 2
        }
      ]
    },
    {
      "cell_type": "code",
      "metadata": {
        "colab": {
          "base_uri": "https://localhost:8080/"
        },
        "id": "G8tpMGddG3Iy",
        "outputId": "03a2d4ea-92a1-43de-9b66-4586a8eff4c0"
      },
      "source": [
        "!mkdir ~/.kaggle\n",
        "!cp kaggle.json ~/.kaggle/\n",
        "!chmod 600 ~/.kaggle/kaggle.json\n",
        "!kaggle datasets list"
      ],
      "execution_count": null,
      "outputs": [
        {
          "output_type": "stream",
          "text": [
            "Warning: Looks like you're using an outdated API Version, please consider updating (server 1.5.12 / client 1.5.4)\n",
            "ref                                                           title                                              size  lastUpdated          downloadCount  \n",
            "------------------------------------------------------------  ------------------------------------------------  -----  -------------------  -------------  \n",
            "gpreda/reddit-vaccine-myths                                   Reddit Vaccine Myths                              233KB  2021-07-07 19:18:09           8995  \n",
            "crowww/a-large-scale-fish-dataset                             A Large Scale Fish Dataset                          3GB  2021-04-28 17:03:01           5508  \n",
            "imsparsh/musicnet-dataset                                     MusicNet Dataset                                   22GB  2021-02-18 14:12:19           1987  \n",
            "dhruvildave/wikibooks-dataset                                 Wikibooks Dataset                                   2GB  2021-07-03 18:37:20           2379  \n",
            "promptcloud/careerbuilder-job-listing-2020                    Careerbuilder Job Listing 2020                     42MB  2021-03-05 06:59:52           1305  \n",
            "fatiimaezzahra/famous-iconic-women                            Famous Iconic Women                               838MB  2021-02-28 14:56:00            917  \n",
            "nickuzmenkov/nih-chest-xrays-tfrecords                        NIH Chest X-rays TFRecords                         11GB  2021-03-09 04:49:23            711  \n",
            "coloradokb/dandelionimages                                    DandelionImages                                     4GB  2021-02-19 20:03:47            672  \n",
            "mathurinache/twitter-edge-nodes                               Twitter Edge Nodes                                342MB  2021-03-08 06:43:04            623  \n",
            "simiotic/github-code-snippets                                 GitHub Code Snippets                                7GB  2021-03-03 11:34:39            214  \n",
            "alsgroup/end-als                                              End ALS Kaggle Challenge                           12GB  2021-04-08 12:16:37            767  \n",
            "landrykezebou/lvzhdr-tone-mapping-benchmark-dataset-tmonet    LVZ-HDR Tone Mapping Benchmark Dataset (TMO-Net)   24GB  2021-03-01 05:03:40            154  \n",
            "mathurinache/the-lj-speech-dataset                            The LJ Speech Dataset                               3GB  2021-02-15 09:19:54            228  \n",
            "nickuzmenkov/ranzcr-clip-kfold-tfrecords                      RANZCR CLiP KFold TFRecords                         2GB  2021-02-21 13:29:51            100  \n",
            "imsparsh/accentdb-core-extended                               AccentDB - Core & Extended                          6GB  2021-02-17 14:22:54             89  \n",
            "stuartjames/lights                                            LightS: Light Specularity Dataset                  18GB  2021-02-18 14:32:26             88  \n",
            "jessicali9530/animal-crossing-new-horizons-nookplaza-dataset  Animal Crossing New Horizons Catalog              577KB  2021-06-08 15:05:09           4765  \n",
            "datasnaek/youtube-new                                         Trending YouTube Video Statistics                 201MB  2019-06-03 00:56:47         144179  \n",
            "zynicide/wine-reviews                                         Wine Reviews                                       51MB  2017-11-27 17:08:04         139852  \n",
            "residentmario/ramen-ratings                                   Ramen Ratings                                      40KB  2018-01-11 16:04:39          24769  \n"
          ],
          "name": "stdout"
        }
      ]
    },
    {
      "cell_type": "code",
      "metadata": {
        "colab": {
          "base_uri": "https://localhost:8080/"
        },
        "id": "mAoB2AOfJrYO",
        "outputId": "ffa745b4-3efd-4ab1-e535-9a66ae4a239d"
      },
      "source": [
        "!kaggle datasets download -d lakshmi25npathi/imdb-dataset-of-50k-movie-reviews\n",
        "!unzip imdb-dataset-of-50k-movie-reviews.zip"
      ],
      "execution_count": null,
      "outputs": [
        {
          "output_type": "stream",
          "text": [
            "Downloading imdb-dataset-of-50k-movie-reviews.zip to /content\n",
            "\r  0% 0.00/25.7M [00:00<?, ?B/s]\r 86% 22.0M/25.7M [00:00<00:00, 227MB/s]\n",
            "\r100% 25.7M/25.7M [00:00<00:00, 236MB/s]\n",
            "Archive:  imdb-dataset-of-50k-movie-reviews.zip\n",
            "  inflating: IMDB Dataset.csv        \n"
          ],
          "name": "stdout"
        }
      ]
    },
    {
      "cell_type": "code",
      "metadata": {
        "id": "i1CNEcw8Louu"
      },
      "source": [
        "import numpy as np\n",
        "import warnings\n",
        "import matplotlib.pyplot as plt\n",
        "warnings.filterwarnings('ignore')\n",
        "np.random.seed(123)\n",
        "\n",
        "from autogluon.core.utils.loaders.load_pd import load\n",
        "import pandas as pd\n",
        "df = pd.read_csv('./IMDB Dataset.csv')\n",
        "\n",
        "msk = np.random.rand(len(df)) < 0.8\n",
        "train_df = df[msk]\n",
        "test_df = df[~msk]\n"
      ],
      "execution_count": null,
      "outputs": []
    },
    {
      "cell_type": "code",
      "metadata": {
        "id": "d3787Qt0TQKR",
        "colab": {
          "base_uri": "https://localhost:8080/"
        },
        "outputId": "00b41552-21c9-4501-d643-e2c7f2136000"
      },
      "source": [
        "from autogluon.text import TextPredictor\n",
        "predictor = TextPredictor(label='sentiment', eval_metric='acc')\n",
        "predictor.fit(train_df, time_limit=60)"
      ],
      "execution_count": null,
      "outputs": [
        {
          "output_type": "stream",
          "text": [
            "INFO:root:NumPy-shape semantics has been activated in your code. This is required for creating and manipulating scalar and zero-size tensors, which were not supported in MXNet before, as in the official NumPy library. Please DO NOT manually deactivate this semantics while using `mxnet.numpy` and `mxnet.numpy_extension` modules.\n",
            "INFO:autogluon.text.text_prediction.mx.models:The GluonNLP V0 backend is used. We will use 2 cpus and 1 gpus to train each trial.\n"
          ],
          "name": "stderr"
        },
        {
          "output_type": "stream",
          "text": [
            "All Logs will be saved to /content/AutogluonModels/ag-20210710_032404/task0/training.log\n",
            "Downloading /root/.mxnet/models/nlp/google_electra_base/model-5b35ca0b.yml from https://gluonnlp-numpy-data.s3-accelerate.amazonaws.com/models/google_electra_base/model-5b35ca0b.yml...\n"
          ],
          "name": "stdout"
        },
        {
          "output_type": "stream",
          "text": [
            "100%|██████████| 477/477 [00:00<00:00, 133kiB/s]\n",
            "  0%|          | 0.00/323k [00:00<?, ?iB/s]"
          ],
          "name": "stderr"
        },
        {
          "output_type": "stream",
          "text": [
            "Downloading /root/.mxnet/models/nlp/google_electra_base/vocab-e6d2b21d.json from https://gluonnlp-numpy-data.s3-accelerate.amazonaws.com/models/google_electra_base/vocab-e6d2b21d.json...\n"
          ],
          "name": "stdout"
        },
        {
          "output_type": "stream",
          "text": [
            "100%|██████████| 323k/323k [00:00<00:00, 1.32MiB/s]\n"
          ],
          "name": "stderr"
        },
        {
          "output_type": "stream",
          "text": [
            "Downloading /root/.mxnet/models/nlp/google_electra_base/model-31c235cc.params from https://gluonnlp-numpy-data.s3-accelerate.amazonaws.com/models/google_electra_base/model-31c235cc.params...\n"
          ],
          "name": "stdout"
        },
        {
          "output_type": "stream",
          "text": [
            "100%|██████████| 436M/436M [00:08<00:00, 50.3MiB/s]\n",
            "INFO:root:Fitting and transforming the train data...\n",
            "INFO:root:Done! Preprocessor saved to /content/AutogluonModels/ag-20210710_032404/task0/preprocessor.pkl\n",
            "INFO:root:Process dev set...\n",
            "INFO:root:Done!\n",
            "INFO:root:Max length for chunking text: 512, Stochastic chunk: Train-False/Test-False, Test #repeat: 1.\n",
            "INFO:root:#Total Params/Fixed Params=108990466/0\n",
            "Level 15:root:Using gradient accumulation. Global batch size = 128\n",
            "INFO:root:Local training results will be saved to /content/AutogluonModels/ag-20210710_032404/task0/results_local.jsonl.\n",
            "Level 15:root:[Iter 15/2940, Epoch 0] train loss=7.79e-01, gnorm=7.17e+00, lr=5.10e-06, #samples processed=1920, #sample per second=0.11. ETA=58562.23min\n"
          ],
          "name": "stderr"
        }
      ]
    },
    {
      "cell_type": "code",
      "metadata": {
        "id": "ygz1zi5heJ_G"
      },
      "source": [
        "test_score = predictor.evaluate(test_df)\n",
        "print('Accuracy = {:.2f}%'.format(test_score * 100))"
      ],
      "execution_count": null,
      "outputs": []
    },
    {
      "cell_type": "markdown",
      "metadata": {
        "id": "jG8_60IPl1Ic"
      },
      "source": [
        "This took so long that collab run out of gpu time. \n"
      ]
    }
  ]
}