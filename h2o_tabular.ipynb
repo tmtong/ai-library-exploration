{
  "nbformat": 4,
  "nbformat_minor": 0,
  "metadata": {
    "colab": {
      "name": "h2o-tabular.ipynb",
      "provenance": [],
      "collapsed_sections": [],
      "authorship_tag": "ABX9TyO6BJpnCojNYCTlkCunSsA4",
      "include_colab_link": true
    },
    "kernelspec": {
      "name": "python3",
      "display_name": "Python 3"
    },
    "language_info": {
      "name": "python"
    },
    "accelerator": "GPU"
  },
  "cells": [
    {
      "cell_type": "markdown",
      "metadata": {
        "id": "view-in-github",
        "colab_type": "text"
      },
      "source": [
        "<a href=\"https://colab.research.google.com/github/tmtong/ai-library-exploration/blob/main/h2o_tabular.ipynb\" target=\"_parent\"><img src=\"https://colab.research.google.com/assets/colab-badge.svg\" alt=\"Open In Colab\"/></a>"
      ]
    },
    {
      "cell_type": "code",
      "metadata": {
        "colab": {
          "base_uri": "https://localhost:8080/"
        },
        "id": "2azpPUVQ1nJ3",
        "outputId": "dc546756-91cc-4bb6-8071-3ef7126fd8ff"
      },
      "source": [
        "!pip install h2o"
      ],
      "execution_count": 2,
      "outputs": [
        {
          "output_type": "stream",
          "text": [
            "Collecting h2o\n",
            "\u001b[?25l  Downloading https://files.pythonhosted.org/packages/8c/6a/0ee4e2387e31cb472a952a44cffd72f1b471c51f28f0ceeeaa5e4709be1b/h2o-3.32.1.4.tar.gz (164.8MB)\n",
            "\u001b[K     |████████████████████████████████| 164.8MB 89kB/s \n",
            "\u001b[?25hRequirement already satisfied: requests in /usr/local/lib/python3.7/dist-packages (from h2o) (2.23.0)\n",
            "Requirement already satisfied: tabulate in /usr/local/lib/python3.7/dist-packages (from h2o) (0.8.9)\n",
            "Requirement already satisfied: future in /usr/local/lib/python3.7/dist-packages (from h2o) (0.16.0)\n",
            "Collecting colorama>=0.3.8\n",
            "  Downloading https://files.pythonhosted.org/packages/44/98/5b86278fbbf250d239ae0ecb724f8572af1c91f4a11edf4d36a206189440/colorama-0.4.4-py2.py3-none-any.whl\n",
            "Requirement already satisfied: urllib3!=1.25.0,!=1.25.1,<1.26,>=1.21.1 in /usr/local/lib/python3.7/dist-packages (from requests->h2o) (1.24.3)\n",
            "Requirement already satisfied: certifi>=2017.4.17 in /usr/local/lib/python3.7/dist-packages (from requests->h2o) (2021.5.30)\n",
            "Requirement already satisfied: chardet<4,>=3.0.2 in /usr/local/lib/python3.7/dist-packages (from requests->h2o) (3.0.4)\n",
            "Requirement already satisfied: idna<3,>=2.5 in /usr/local/lib/python3.7/dist-packages (from requests->h2o) (2.10)\n",
            "Building wheels for collected packages: h2o\n",
            "  Building wheel for h2o (setup.py) ... \u001b[?25l\u001b[?25hdone\n",
            "  Created wheel for h2o: filename=h2o-3.32.1.4-py2.py3-none-any.whl size=164871668 sha256=72a27a9efba56237aaeee717218d6265e63ec8064fbaee8b8e1f6761430471af\n",
            "  Stored in directory: /root/.cache/pip/wheels/67/76/54/89d7711536d5bb0d010bf35a34deca3eddc757efba78dbc74f\n",
            "Successfully built h2o\n",
            "Installing collected packages: colorama, h2o\n",
            "Successfully installed colorama-0.4.4 h2o-3.32.1.4\n"
          ],
          "name": "stdout"
        }
      ]
    },
    {
      "cell_type": "code",
      "metadata": {
        "colab": {
          "base_uri": "https://localhost:8080/"
        },
        "id": "xkn5iY0u1z8I",
        "outputId": "a83bc306-b19b-4a54-a8bb-97af4eb761a7"
      },
      "source": [
        "!pip install git+https://github.com/fastai/fastai.git\n",
        "from fastai.tabular.all import *"
      ],
      "execution_count": 3,
      "outputs": [
        {
          "output_type": "stream",
          "text": [
            "Collecting git+https://github.com/fastai/fastai.git\n",
            "  Cloning https://github.com/fastai/fastai.git to /tmp/pip-req-build-cbpmyvay\n",
            "  Running command git clone -q https://github.com/fastai/fastai.git /tmp/pip-req-build-cbpmyvay\n",
            "Requirement already satisfied: pip in /usr/local/lib/python3.7/dist-packages (from fastai==2.4.1) (19.3.1)\n",
            "Requirement already satisfied: packaging in /usr/local/lib/python3.7/dist-packages (from fastai==2.4.1) (20.9)\n",
            "Collecting fastcore<1.4,>=1.3.8\n",
            "\u001b[?25l  Downloading https://files.pythonhosted.org/packages/d8/b0/f1fbf554e0bf3c76e1bdc3b82eedfe41fcf656479586be38c64421082b1b/fastcore-1.3.20-py3-none-any.whl (53kB)\n",
            "\u001b[K     |████████████████████████████████| 61kB 9.7MB/s \n",
            "\u001b[?25hRequirement already satisfied: torchvision>=0.8.2 in /usr/local/lib/python3.7/dist-packages (from fastai==2.4.1) (0.10.0+cu102)\n",
            "Requirement already satisfied: matplotlib in /usr/local/lib/python3.7/dist-packages (from fastai==2.4.1) (3.2.2)\n",
            "Requirement already satisfied: pandas in /usr/local/lib/python3.7/dist-packages (from fastai==2.4.1) (1.1.5)\n",
            "Requirement already satisfied: requests in /usr/local/lib/python3.7/dist-packages (from fastai==2.4.1) (2.23.0)\n",
            "Requirement already satisfied: pyyaml in /usr/local/lib/python3.7/dist-packages (from fastai==2.4.1) (3.13)\n",
            "Requirement already satisfied: fastprogress>=0.2.4 in /usr/local/lib/python3.7/dist-packages (from fastai==2.4.1) (1.0.0)\n",
            "Requirement already satisfied: pillow>6.0.0 in /usr/local/lib/python3.7/dist-packages (from fastai==2.4.1) (7.1.2)\n",
            "Requirement already satisfied: scikit-learn in /usr/local/lib/python3.7/dist-packages (from fastai==2.4.1) (0.22.2.post1)\n",
            "Requirement already satisfied: scipy in /usr/local/lib/python3.7/dist-packages (from fastai==2.4.1) (1.4.1)\n",
            "Requirement already satisfied: spacy<4 in /usr/local/lib/python3.7/dist-packages (from fastai==2.4.1) (2.2.4)\n",
            "Requirement already satisfied: torch<1.10,>=1.7.0 in /usr/local/lib/python3.7/dist-packages (from fastai==2.4.1) (1.9.0+cu102)\n",
            "Requirement already satisfied: pyparsing>=2.0.2 in /usr/local/lib/python3.7/dist-packages (from packaging->fastai==2.4.1) (2.4.7)\n",
            "Requirement already satisfied: numpy in /usr/local/lib/python3.7/dist-packages (from torchvision>=0.8.2->fastai==2.4.1) (1.19.5)\n",
            "Requirement already satisfied: python-dateutil>=2.1 in /usr/local/lib/python3.7/dist-packages (from matplotlib->fastai==2.4.1) (2.8.1)\n",
            "Requirement already satisfied: cycler>=0.10 in /usr/local/lib/python3.7/dist-packages (from matplotlib->fastai==2.4.1) (0.10.0)\n",
            "Requirement already satisfied: kiwisolver>=1.0.1 in /usr/local/lib/python3.7/dist-packages (from matplotlib->fastai==2.4.1) (1.3.1)\n",
            "Requirement already satisfied: pytz>=2017.2 in /usr/local/lib/python3.7/dist-packages (from pandas->fastai==2.4.1) (2018.9)\n",
            "Requirement already satisfied: idna<3,>=2.5 in /usr/local/lib/python3.7/dist-packages (from requests->fastai==2.4.1) (2.10)\n",
            "Requirement already satisfied: chardet<4,>=3.0.2 in /usr/local/lib/python3.7/dist-packages (from requests->fastai==2.4.1) (3.0.4)\n",
            "Requirement already satisfied: certifi>=2017.4.17 in /usr/local/lib/python3.7/dist-packages (from requests->fastai==2.4.1) (2021.5.30)\n",
            "Requirement already satisfied: urllib3!=1.25.0,!=1.25.1,<1.26,>=1.21.1 in /usr/local/lib/python3.7/dist-packages (from requests->fastai==2.4.1) (1.24.3)\n",
            "Requirement already satisfied: joblib>=0.11 in /usr/local/lib/python3.7/dist-packages (from scikit-learn->fastai==2.4.1) (1.0.1)\n",
            "Requirement already satisfied: blis<0.5.0,>=0.4.0 in /usr/local/lib/python3.7/dist-packages (from spacy<4->fastai==2.4.1) (0.4.1)\n",
            "Requirement already satisfied: cymem<2.1.0,>=2.0.2 in /usr/local/lib/python3.7/dist-packages (from spacy<4->fastai==2.4.1) (2.0.5)\n",
            "Requirement already satisfied: tqdm<5.0.0,>=4.38.0 in /usr/local/lib/python3.7/dist-packages (from spacy<4->fastai==2.4.1) (4.41.1)\n",
            "Requirement already satisfied: thinc==7.4.0 in /usr/local/lib/python3.7/dist-packages (from spacy<4->fastai==2.4.1) (7.4.0)\n",
            "Requirement already satisfied: srsly<1.1.0,>=1.0.2 in /usr/local/lib/python3.7/dist-packages (from spacy<4->fastai==2.4.1) (1.0.5)\n",
            "Requirement already satisfied: catalogue<1.1.0,>=0.0.7 in /usr/local/lib/python3.7/dist-packages (from spacy<4->fastai==2.4.1) (1.0.0)\n",
            "Requirement already satisfied: preshed<3.1.0,>=3.0.2 in /usr/local/lib/python3.7/dist-packages (from spacy<4->fastai==2.4.1) (3.0.5)\n",
            "Requirement already satisfied: murmurhash<1.1.0,>=0.28.0 in /usr/local/lib/python3.7/dist-packages (from spacy<4->fastai==2.4.1) (1.0.5)\n",
            "Requirement already satisfied: plac<1.2.0,>=0.9.6 in /usr/local/lib/python3.7/dist-packages (from spacy<4->fastai==2.4.1) (1.1.3)\n",
            "Requirement already satisfied: wasabi<1.1.0,>=0.4.0 in /usr/local/lib/python3.7/dist-packages (from spacy<4->fastai==2.4.1) (0.8.2)\n",
            "Requirement already satisfied: setuptools in /usr/local/lib/python3.7/dist-packages (from spacy<4->fastai==2.4.1) (57.0.0)\n",
            "Requirement already satisfied: typing-extensions in /usr/local/lib/python3.7/dist-packages (from torch<1.10,>=1.7.0->fastai==2.4.1) (3.7.4.3)\n",
            "Requirement already satisfied: six>=1.5 in /usr/local/lib/python3.7/dist-packages (from python-dateutil>=2.1->matplotlib->fastai==2.4.1) (1.15.0)\n",
            "Requirement already satisfied: importlib-metadata>=0.20; python_version < \"3.8\" in /usr/local/lib/python3.7/dist-packages (from catalogue<1.1.0,>=0.0.7->spacy<4->fastai==2.4.1) (4.6.0)\n",
            "Requirement already satisfied: zipp>=0.5 in /usr/local/lib/python3.7/dist-packages (from importlib-metadata>=0.20; python_version < \"3.8\"->catalogue<1.1.0,>=0.0.7->spacy<4->fastai==2.4.1) (3.4.1)\n",
            "Building wheels for collected packages: fastai\n",
            "  Building wheel for fastai (setup.py) ... \u001b[?25l\u001b[?25hdone\n",
            "  Created wheel for fastai: filename=fastai-2.4.1-cp37-none-any.whl size=188188 sha256=65adfd870f5cd75d563e05d895a7833353bf85794433015afc407f928a9fb229\n",
            "  Stored in directory: /tmp/pip-ephem-wheel-cache-2herd8za/wheels/cf/46/39/b2d08762125ed2376861976ab2c4ac30c029b86e375735d9b8\n",
            "Successfully built fastai\n",
            "Installing collected packages: fastcore, fastai\n",
            "  Found existing installation: fastai 1.0.61\n",
            "    Uninstalling fastai-1.0.61:\n",
            "      Successfully uninstalled fastai-1.0.61\n",
            "Successfully installed fastai-2.4.1 fastcore-1.3.20\n"
          ],
          "name": "stdout"
        }
      ]
    },
    {
      "cell_type": "code",
      "metadata": {
        "colab": {
          "base_uri": "https://localhost:8080/",
          "height": 17
        },
        "id": "_4ZaIvaR2Hv3",
        "outputId": "fe6d2c37-3040-4cbf-9a81-6999da89d3e8"
      },
      "source": [
        "path = untar_data(URLs.ADULT_SAMPLE)\n",
        "path.ls()\n",
        "data_path = '/root/.fastai/data/adult_sample/adult.csv'"
      ],
      "execution_count": 4,
      "outputs": [
        {
          "output_type": "display_data",
          "data": {
            "text/html": [
              ""
            ],
            "text/plain": [
              "<IPython.core.display.HTML object>"
            ]
          },
          "metadata": {
            "tags": []
          }
        }
      ]
    },
    {
      "cell_type": "code",
      "metadata": {
        "colab": {
          "base_uri": "https://localhost:8080/",
          "height": 602
        },
        "id": "3PpEyP0i2JkP",
        "outputId": "3830f517-7e96-4160-92e6-5df5fbd8f679"
      },
      "source": [
        "import h2o\n",
        "from h2o.automl import H2OAutoML\n",
        "h2o.init()\n",
        "df = h2o.import_file(data_path)"
      ],
      "execution_count": 5,
      "outputs": [
        {
          "output_type": "stream",
          "text": [
            "Checking whether there is an H2O instance running at http://localhost:54321 ..... not found.\n",
            "Attempting to start a local H2O server...\n",
            "  Java Version: openjdk version \"11.0.11\" 2021-04-20; OpenJDK Runtime Environment (build 11.0.11+9-Ubuntu-0ubuntu2.18.04); OpenJDK 64-Bit Server VM (build 11.0.11+9-Ubuntu-0ubuntu2.18.04, mixed mode, sharing)\n",
            "  Starting server from /usr/local/lib/python3.7/dist-packages/h2o/backend/bin/h2o.jar\n",
            "  Ice root: /tmp/tmpnqt9o55m\n",
            "  JVM stdout: /tmp/tmpnqt9o55m/h2o_unknownUser_started_from_python.out\n",
            "  JVM stderr: /tmp/tmpnqt9o55m/h2o_unknownUser_started_from_python.err\n",
            "  Server is running at http://127.0.0.1:54321\n",
            "Connecting to H2O server at http://127.0.0.1:54321 ... successful.\n"
          ],
          "name": "stdout"
        },
        {
          "output_type": "display_data",
          "data": {
            "text/html": [
              "<div style=\"overflow:auto\"><table style=\"width:50%\"><tr><td>H2O_cluster_uptime:</td>\n",
              "<td>02 secs</td></tr>\n",
              "<tr><td>H2O_cluster_timezone:</td>\n",
              "<td>Etc/UTC</td></tr>\n",
              "<tr><td>H2O_data_parsing_timezone:</td>\n",
              "<td>UTC</td></tr>\n",
              "<tr><td>H2O_cluster_version:</td>\n",
              "<td>3.32.1.4</td></tr>\n",
              "<tr><td>H2O_cluster_version_age:</td>\n",
              "<td>1 day </td></tr>\n",
              "<tr><td>H2O_cluster_name:</td>\n",
              "<td>H2O_from_python_unknownUser_9fton5</td></tr>\n",
              "<tr><td>H2O_cluster_total_nodes:</td>\n",
              "<td>1</td></tr>\n",
              "<tr><td>H2O_cluster_free_memory:</td>\n",
              "<td>3.174 Gb</td></tr>\n",
              "<tr><td>H2O_cluster_total_cores:</td>\n",
              "<td>2</td></tr>\n",
              "<tr><td>H2O_cluster_allowed_cores:</td>\n",
              "<td>2</td></tr>\n",
              "<tr><td>H2O_cluster_status:</td>\n",
              "<td>accepting new members, healthy</td></tr>\n",
              "<tr><td>H2O_connection_url:</td>\n",
              "<td>http://127.0.0.1:54321</td></tr>\n",
              "<tr><td>H2O_connection_proxy:</td>\n",
              "<td>{\"http\": null, \"https\": null}</td></tr>\n",
              "<tr><td>H2O_internal_security:</td>\n",
              "<td>False</td></tr>\n",
              "<tr><td>H2O_API_Extensions:</td>\n",
              "<td>Amazon S3, XGBoost, Algos, AutoML, Core V3, TargetEncoder, Core V4</td></tr>\n",
              "<tr><td>Python_version:</td>\n",
              "<td>3.7.10 final</td></tr></table></div>"
            ],
            "text/plain": [
              "--------------------------  ------------------------------------------------------------------\n",
              "H2O_cluster_uptime:         02 secs\n",
              "H2O_cluster_timezone:       Etc/UTC\n",
              "H2O_data_parsing_timezone:  UTC\n",
              "H2O_cluster_version:        3.32.1.4\n",
              "H2O_cluster_version_age:    1 day\n",
              "H2O_cluster_name:           H2O_from_python_unknownUser_9fton5\n",
              "H2O_cluster_total_nodes:    1\n",
              "H2O_cluster_free_memory:    3.174 Gb\n",
              "H2O_cluster_total_cores:    2\n",
              "H2O_cluster_allowed_cores:  2\n",
              "H2O_cluster_status:         accepting new members, healthy\n",
              "H2O_connection_url:         http://127.0.0.1:54321\n",
              "H2O_connection_proxy:       {\"http\": null, \"https\": null}\n",
              "H2O_internal_security:      False\n",
              "H2O_API_Extensions:         Amazon S3, XGBoost, Algos, AutoML, Core V3, TargetEncoder, Core V4\n",
              "Python_version:             3.7.10 final\n",
              "--------------------------  ------------------------------------------------------------------"
            ]
          },
          "metadata": {
            "tags": []
          }
        },
        {
          "output_type": "stream",
          "text": [
            "Parse progress: |█████████████████████████████████████████████████████████| 100%\n"
          ],
          "name": "stdout"
        }
      ]
    },
    {
      "cell_type": "code",
      "metadata": {
        "colab": {
          "base_uri": "https://localhost:8080/",
          "height": 790
        },
        "id": "btMp9SoL2ipM",
        "outputId": "db5da86b-df02-4eb3-98b6-85cb35857c89"
      },
      "source": [
        "df.describe()"
      ],
      "execution_count": 6,
      "outputs": [
        {
          "output_type": "stream",
          "text": [
            "Rows:32561\n",
            "Cols:15\n",
            "\n",
            "\n"
          ],
          "name": "stdout"
        },
        {
          "output_type": "display_data",
          "data": {
            "text/html": [
              "<table>\n",
              "<thead>\n",
              "<tr><th>       </th><th>age              </th><th>workclass       </th><th>fnlwgt            </th><th>education   </th><th>education-num     </th><th>marital-status    </th><th>occupation       </th><th>relationship  </th><th>race              </th><th>sex   </th><th>capital-gain     </th><th>capital-loss     </th><th>hours-per-week    </th><th>native-country  </th><th>salary  </th></tr>\n",
              "</thead>\n",
              "<tbody>\n",
              "<tr><td>type   </td><td>int              </td><td>enum            </td><td>int               </td><td>enum        </td><td>int               </td><td>enum              </td><td>enum             </td><td>enum          </td><td>enum              </td><td>enum  </td><td>int              </td><td>int              </td><td>int               </td><td>enum            </td><td>enum    </td></tr>\n",
              "<tr><td>mins   </td><td>17.0             </td><td>                </td><td>12285.0           </td><td>            </td><td>1.0               </td><td>                  </td><td>                 </td><td>              </td><td>                  </td><td>      </td><td>0.0              </td><td>0.0              </td><td>1.0               </td><td>                </td><td>        </td></tr>\n",
              "<tr><td>mean   </td><td>38.5816467553208 </td><td>                </td><td>189778.3665120849 </td><td>            </td><td>10.07981542682547 </td><td>                  </td><td>                 </td><td>              </td><td>                  </td><td>      </td><td>1077.648843708731</td><td>87.303829734959  </td><td>40.43745585209304 </td><td>                </td><td>        </td></tr>\n",
              "<tr><td>maxs   </td><td>90.0             </td><td>                </td><td>1484705.0         </td><td>            </td><td>16.0              </td><td>                  </td><td>                 </td><td>              </td><td>                  </td><td>      </td><td>99999.0          </td><td>4356.0           </td><td>99.0              </td><td>                </td><td>        </td></tr>\n",
              "<tr><td>sigma  </td><td>13.64043255358134</td><td>                </td><td>105549.97769702227</td><td>            </td><td>2.5729991547308355</td><td>                  </td><td>                 </td><td>              </td><td>                  </td><td>      </td><td>7385.29208484034 </td><td>402.9602186489997</td><td>12.347428681731849</td><td>                </td><td>        </td></tr>\n",
              "<tr><td>zeros  </td><td>0                </td><td>                </td><td>0                 </td><td>            </td><td>0                 </td><td>                  </td><td>                 </td><td>              </td><td>                  </td><td>      </td><td>29849            </td><td>31042            </td><td>0                 </td><td>                </td><td>        </td></tr>\n",
              "<tr><td>missing</td><td>0                </td><td>0               </td><td>0                 </td><td>0           </td><td>487               </td><td>0                 </td><td>512              </td><td>0             </td><td>0                 </td><td>0     </td><td>0                </td><td>0                </td><td>0                 </td><td>0               </td><td>0       </td></tr>\n",
              "<tr><td>0      </td><td>49.0             </td><td>Private         </td><td>101320.0          </td><td>Assoc-acdm  </td><td>12.0              </td><td>Married-civ-spouse</td><td>                 </td><td>Wife          </td><td>White             </td><td>Female</td><td>0.0              </td><td>1902.0           </td><td>40.0              </td><td>United-States   </td><td>&gt;=50k   </td></tr>\n",
              "<tr><td>1      </td><td>44.0             </td><td>Private         </td><td>236746.0          </td><td>Masters     </td><td>14.0              </td><td>Divorced          </td><td>Exec-managerial  </td><td>Not-in-family </td><td>White             </td><td>Male  </td><td>10520.0          </td><td>0.0              </td><td>45.0              </td><td>United-States   </td><td>&gt;=50k   </td></tr>\n",
              "<tr><td>2      </td><td>38.0             </td><td>Private         </td><td>96185.0           </td><td>HS-grad     </td><td>nan               </td><td>Divorced          </td><td>                 </td><td>Unmarried     </td><td>Black             </td><td>Female</td><td>0.0              </td><td>0.0              </td><td>32.0              </td><td>United-States   </td><td>&lt;50k    </td></tr>\n",
              "<tr><td>3      </td><td>38.0             </td><td>Self-emp-inc    </td><td>112847.0          </td><td>Prof-school </td><td>15.0              </td><td>Married-civ-spouse</td><td>Prof-specialty   </td><td>Husband       </td><td>Asian-Pac-Islander</td><td>Male  </td><td>0.0              </td><td>0.0              </td><td>40.0              </td><td>United-States   </td><td>&gt;=50k   </td></tr>\n",
              "<tr><td>4      </td><td>42.0             </td><td>Self-emp-not-inc</td><td>82297.0           </td><td>7th-8th     </td><td>nan               </td><td>Married-civ-spouse</td><td>Other-service    </td><td>Wife          </td><td>Black             </td><td>Female</td><td>0.0              </td><td>0.0              </td><td>50.0              </td><td>United-States   </td><td>&lt;50k    </td></tr>\n",
              "<tr><td>5      </td><td>20.0             </td><td>Private         </td><td>63210.0           </td><td>HS-grad     </td><td>9.0               </td><td>Never-married     </td><td>Handlers-cleaners</td><td>Own-child     </td><td>White             </td><td>Male  </td><td>0.0              </td><td>0.0              </td><td>15.0              </td><td>United-States   </td><td>&lt;50k    </td></tr>\n",
              "<tr><td>6      </td><td>49.0             </td><td>Private         </td><td>44434.0           </td><td>Some-college</td><td>10.0              </td><td>Divorced          </td><td>                 </td><td>Other-relative</td><td>White             </td><td>Male  </td><td>0.0              </td><td>0.0              </td><td>35.0              </td><td>United-States   </td><td>&lt;50k    </td></tr>\n",
              "<tr><td>7      </td><td>37.0             </td><td>Private         </td><td>138940.0          </td><td>11th        </td><td>7.0               </td><td>Married-civ-spouse</td><td>                 </td><td>Husband       </td><td>White             </td><td>Male  </td><td>0.0              </td><td>0.0              </td><td>40.0              </td><td>United-States   </td><td>&lt;50k    </td></tr>\n",
              "<tr><td>8      </td><td>46.0             </td><td>Private         </td><td>328216.0          </td><td>HS-grad     </td><td>9.0               </td><td>Married-civ-spouse</td><td>Craft-repair     </td><td>Husband       </td><td>White             </td><td>Male  </td><td>0.0              </td><td>0.0              </td><td>40.0              </td><td>United-States   </td><td>&gt;=50k   </td></tr>\n",
              "<tr><td>9      </td><td>36.0             </td><td>Self-emp-inc    </td><td>216711.0          </td><td>HS-grad     </td><td>nan               </td><td>Married-civ-spouse</td><td>                 </td><td>Husband       </td><td>White             </td><td>Male  </td><td>99999.0          </td><td>0.0              </td><td>50.0              </td><td>?               </td><td>&gt;=50k   </td></tr>\n",
              "</tbody>\n",
              "</table>"
            ]
          },
          "metadata": {
            "tags": []
          }
        }
      ]
    },
    {
      "cell_type": "code",
      "metadata": {
        "colab": {
          "base_uri": "https://localhost:8080/"
        },
        "id": "jjim1cNd2nc1",
        "outputId": "dd2acf4b-ea63-4796-91c7-b7338769f5fe"
      },
      "source": [
        "y = \"salary\"\n",
        "x = df.columns\n",
        "x.remove(y)\n",
        "print(x)"
      ],
      "execution_count": 7,
      "outputs": [
        {
          "output_type": "stream",
          "text": [
            "['age', 'workclass', 'fnlwgt', 'education', 'education-num', 'marital-status', 'occupation', 'relationship', 'race', 'sex', 'capital-gain', 'capital-loss', 'hours-per-week', 'native-country']\n"
          ],
          "name": "stdout"
        }
      ]
    },
    {
      "cell_type": "code",
      "metadata": {
        "colab": {
          "base_uri": "https://localhost:8080/"
        },
        "id": "khjTVqkI23mF",
        "outputId": "145958c5-e897-4ba2-9cef-a09e9ad06d6e"
      },
      "source": [
        "aml = H2OAutoML(max_models = 10, seed = 1)\n",
        "aml.train(x = x, y = y, training_frame = df)"
      ],
      "execution_count": 8,
      "outputs": [
        {
          "output_type": "stream",
          "text": [
            "AutoML progress: |████████████████████████████████████████████████████████| 100%\n"
          ],
          "name": "stdout"
        }
      ]
    },
    {
      "cell_type": "code",
      "metadata": {
        "colab": {
          "base_uri": "https://localhost:8080/",
          "height": 250
        },
        "id": "jmkz4XFn38ti",
        "outputId": "19f683b5-0537-4116-f802-6361c43334a0"
      },
      "source": [
        "lb = aml.leaderboard\n",
        "lb.head()"
      ],
      "execution_count": 9,
      "outputs": [
        {
          "output_type": "display_data",
          "data": {
            "text/html": [
              "<table>\n",
              "<thead>\n",
              "<tr><th>model_id                                           </th><th style=\"text-align: right;\">     auc</th><th style=\"text-align: right;\">  logloss</th><th style=\"text-align: right;\">   aucpr</th><th style=\"text-align: right;\">  mean_per_class_error</th><th style=\"text-align: right;\">    rmse</th><th style=\"text-align: right;\">      mse</th></tr>\n",
              "</thead>\n",
              "<tbody>\n",
              "<tr><td>StackedEnsemble_AllModels_AutoML_20210710_004323   </td><td style=\"text-align: right;\">0.929243</td><td style=\"text-align: right;\"> 0.276861</td><td style=\"text-align: right;\">0.830407</td><td style=\"text-align: right;\">              0.177438</td><td style=\"text-align: right;\">0.296568</td><td style=\"text-align: right;\">0.0879526</td></tr>\n",
              "<tr><td>StackedEnsemble_BestOfFamily_AutoML_20210710_004323</td><td style=\"text-align: right;\">0.928921</td><td style=\"text-align: right;\"> 0.277341</td><td style=\"text-align: right;\">0.829713</td><td style=\"text-align: right;\">              0.180879</td><td style=\"text-align: right;\">0.296885</td><td style=\"text-align: right;\">0.088141 </td></tr>\n",
              "<tr><td>GBM_2_AutoML_20210710_004323                       </td><td style=\"text-align: right;\">0.9277  </td><td style=\"text-align: right;\"> 0.280499</td><td style=\"text-align: right;\">0.826595</td><td style=\"text-align: right;\">              0.166052</td><td style=\"text-align: right;\">0.298245</td><td style=\"text-align: right;\">0.0889501</td></tr>\n",
              "<tr><td>XGBoost_3_AutoML_20210710_004323                   </td><td style=\"text-align: right;\">0.927523</td><td style=\"text-align: right;\"> 0.279428</td><td style=\"text-align: right;\">0.827437</td><td style=\"text-align: right;\">              0.173053</td><td style=\"text-align: right;\">0.298112</td><td style=\"text-align: right;\">0.088871 </td></tr>\n",
              "<tr><td>GBM_3_AutoML_20210710_004323                       </td><td style=\"text-align: right;\">0.92741 </td><td style=\"text-align: right;\"> 0.280781</td><td style=\"text-align: right;\">0.826502</td><td style=\"text-align: right;\">              0.166686</td><td style=\"text-align: right;\">0.298225</td><td style=\"text-align: right;\">0.0889379</td></tr>\n",
              "<tr><td>GBM_1_AutoML_20210710_004323                       </td><td style=\"text-align: right;\">0.927387</td><td style=\"text-align: right;\"> 0.281232</td><td style=\"text-align: right;\">0.825874</td><td style=\"text-align: right;\">              0.17382 </td><td style=\"text-align: right;\">0.298336</td><td style=\"text-align: right;\">0.0890045</td></tr>\n",
              "<tr><td>GBM_4_AutoML_20210710_004323                       </td><td style=\"text-align: right;\">0.925971</td><td style=\"text-align: right;\"> 0.283595</td><td style=\"text-align: right;\">0.823616</td><td style=\"text-align: right;\">              0.176255</td><td style=\"text-align: right;\">0.300139</td><td style=\"text-align: right;\">0.0900836</td></tr>\n",
              "<tr><td>GBM_5_AutoML_20210710_004323                       </td><td style=\"text-align: right;\">0.924853</td><td style=\"text-align: right;\"> 0.285495</td><td style=\"text-align: right;\">0.819923</td><td style=\"text-align: right;\">              0.171458</td><td style=\"text-align: right;\">0.301139</td><td style=\"text-align: right;\">0.0906848</td></tr>\n",
              "<tr><td>XGBoost_1_AutoML_20210710_004323                   </td><td style=\"text-align: right;\">0.921773</td><td style=\"text-align: right;\"> 0.290519</td><td style=\"text-align: right;\">0.814262</td><td style=\"text-align: right;\">              0.180471</td><td style=\"text-align: right;\">0.304448</td><td style=\"text-align: right;\">0.0926886</td></tr>\n",
              "<tr><td>XGBoost_2_AutoML_20210710_004323                   </td><td style=\"text-align: right;\">0.919136</td><td style=\"text-align: right;\"> 0.296914</td><td style=\"text-align: right;\">0.808633</td><td style=\"text-align: right;\">              0.183214</td><td style=\"text-align: right;\">0.307644</td><td style=\"text-align: right;\">0.0946447</td></tr>\n",
              "</tbody>\n",
              "</table>"
            ]
          },
          "metadata": {
            "tags": []
          }
        },
        {
          "output_type": "execute_result",
          "data": {
            "text/plain": [
              ""
            ]
          },
          "metadata": {
            "tags": []
          },
          "execution_count": 9
        }
      ]
    }
  ]
}